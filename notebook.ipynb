{
 "cells": [
  {
   "cell_type": "code",
   "execution_count": 1,
   "metadata": {},
   "outputs": [
    {
     "name": "stdout",
     "output_type": "stream",
     "text": [
      "WARNING:tensorflow:From /home/perlt/anaconda3/lib/python3.7/site-packages/tensorflow/python/ops/resource_variable_ops.py:435: colocate_with (from tensorflow.python.framework.ops) is deprecated and will be removed in a future version.\n",
      "Instructions for updating:\n",
      "Colocations handled automatically by placer.\n",
      "Epoch 1/5\n",
      "897/897 [==============================] - 0s 310us/sample - loss: nan - acc: 0.3880\n",
      "Epoch 2/5\n",
      "897/897 [==============================] - 0s 81us/sample - loss: nan - acc: 0.3802\n",
      "Epoch 3/5\n",
      "897/897 [==============================] - 0s 79us/sample - loss: nan - acc: 0.3802\n",
      "Epoch 4/5\n",
      "897/897 [==============================] - 0s 77us/sample - loss: nan - acc: 0.3802\n",
      "Epoch 5/5\n",
      "897/897 [==============================] - 0s 80us/sample - loss: nan - acc: 0.3802\n",
      "443/443 [==============================] - 0s 181us/sample - loss: nan - acc: 0.3792\n",
      "0.3792325\n"
     ]
    }
   ],
   "source": [
    "import module"
   ]
  },
  {
   "cell_type": "markdown",
   "metadata": {},
   "source": [
    "# Part 1\n",
    "1. Programatically download the raw csv data.\n",
    "2. Import the data into a pandas dataframe.\n",
    "3. Print the head of the dataset."
   ]
  },
  {
   "cell_type": "code",
   "execution_count": 3,
   "metadata": {},
   "outputs": [
    {
     "name": "stdout",
     "output_type": "stream",
     "text": [
      "              name  gp   min  pts  fgm  fga    fg  3p_made  3pa    3p  ...  \\\n",
      "0   Brandon Ingram  36  27.4  7.4  2.6  7.6  34.7      0.5  2.1  25.0  ...   \n",
      "1  Andrew Harrison  35  26.9  7.2  2.0  6.7  29.6      0.7  2.8  23.5  ...   \n",
      "2   JaKarr Sampson  74  15.3  5.2  2.0  4.7  42.2      0.4  1.7  24.4  ...   \n",
      "3      Malik Sealy  58  11.6  5.7  2.3  5.5  42.6      0.1  0.5  22.6  ...   \n",
      "4      Matt Geiger  48  11.5  4.5  1.6  3.0  52.4      0.0  0.1   0.0  ...   \n",
      "5     Tony Bennett  75  11.4  3.7  1.5  3.5  42.3      0.3  1.1  32.5  ...   \n",
      "6      Don MacLean  62  10.9  6.6  2.5  5.8  43.5      0.0  0.1  50.0  ...   \n",
      "7     Tracy Murray  48  10.3  5.7  2.3  5.4  41.5      0.4  1.5  30.0  ...   \n",
      "8     Duane Cooper  65   9.9  2.4  1.0  2.4  39.2      0.1  0.5  23.3  ...   \n",
      "9     Dave Johnson  42   8.5  3.7  1.4  3.5  38.3      0.1  0.3  21.4  ...   \n",
      "\n",
      "   fta    ft  oreb  dreb  reb  ast  stl  blk  tov  target_5yrs  \n",
      "0  2.3  69.9   0.7   3.4  4.1  1.9  0.4  0.4  1.3          0.0  \n",
      "1  3.4  76.5   0.5   2.0  2.4  3.7  1.1  0.5  1.6          0.0  \n",
      "2  1.3  67.0   0.5   1.7  2.2  1.0  0.5  0.3  1.0          0.0  \n",
      "3  1.3  68.9   1.0   0.9  1.9  0.8  0.6  0.1  1.0          1.0  \n",
      "4  1.9  67.4   1.0   1.5  2.5  0.3  0.3  0.4  0.8          1.0  \n",
      "5  0.5  73.2   0.2   0.7  0.8  1.8  0.4  0.0  0.7          0.0  \n",
      "6  1.8  81.1   0.5   1.4  2.0  0.6  0.2  0.1  0.7          1.0  \n",
      "7  0.8  87.5   0.8   0.9  1.7  0.2  0.2  0.1  0.7          1.0  \n",
      "8  0.5  71.4   0.2   0.6  0.8  2.3  0.3  0.0  1.1          0.0  \n",
      "9  1.4  67.8   0.4   0.7  1.1  0.3  0.2  0.0  0.7          0.0  \n",
      "\n",
      "[10 rows x 21 columns]\n"
     ]
    }
   ],
   "source": [
    "df = module.download_data()\n",
    "print(df.head(10))"
   ]
  },
  {
   "cell_type": "markdown",
   "metadata": {},
   "source": [
    "# Part 2\n",
    "1. Find the names of the top 10 3-point shooters (3p_made) in the dataset.\n",
    "2. On a scatter plot, show the relationship between x=GP and y=target_5yrs.\n",
    "3. Does the scatter plot show a relationship between the two attributes?"
   ]
  },
  {
   "cell_type": "code",
   "execution_count": 10,
   "metadata": {},
   "outputs": [
    {
     "name": "stdout",
     "output_type": "stream",
     "text": [
      "585       Damian Lillard\n",
      "698        Stephen Curry\n",
      "1087      Jason Williams\n",
      "1157      Allen Iverson*\n",
      "922         Kirk Hinrich\n",
      "1158       Kerry Kittles\n",
      "1190    Damon Stoudamire\n",
      "1164        Matt Maloney\n",
      "699     Brandon Jennings\n",
      "1090         Paul Pierce\n",
      "Name: name, dtype: object\n"
     ]
    },
    {
     "data": {
      "image/png": "[encoded data removed]",
      "text/plain": [
       "<Figure size 432x288 with 1 Axes>"
      ]
     },
     "metadata": {
      "needs_background": "light"
     },
     "output_type": "display_data"
    }
   ],
   "source": [
    "sorted_df = df.sort_values(\"3p_made\", ascending=False)\n",
    "print(sorted_df[\"name\"][:10])\n",
    "module.print_scatter_on_gp(df)"
   ]
  },
  {
   "cell_type": "code",
   "execution_count": 7,
   "metadata": {},
   "outputs": [
    {
     "data": {
      "image/png": "[encoded data removed]",
      "text/plain": [
       "<Figure size 432x288 with 1 Axes>"
      ]
     },
     "metadata": {
      "needs_background": "light"
     },
     "output_type": "display_data"
    }
   ],
   "source": [
    "# There does not seem to be a relationship. however if you look at min played there seems to \n",
    "#be more of a coalescence. But stil nok alot\n",
    "\n",
    "module.print_scatter_on_min(df)"
   ]
  },
  {
   "cell_type": "markdown",
   "metadata": {},
   "source": [
    "# Part 3\n",
    "1. Create a classifier that can predict whether or not a player will play for 5 years in the NBA.\n",
    "2. Use your classifier, find examples where the result is both 0 and 1.\n",
    "3. Reflect on the importance of the GP attribute. Is it more or less important, than the other attributes."
   ]
  },
  {
   "cell_type": "code",
   "execution_count": 11,
   "metadata": {},
   "outputs": [
    {
     "name": "stdout",
     "output_type": "stream",
     "text": [
      "Epoch 1/5\n",
      "897/897 [==============================] - 0s 215us/sample - loss: nan - acc: 0.4247\n",
      "Epoch 2/5\n",
      "897/897 [==============================] - 0s 56us/sample - loss: nan - acc: 0.3645\n",
      "Epoch 3/5\n",
      "897/897 [==============================] - 0s 64us/sample - loss: nan - acc: 0.3645\n",
      "Epoch 4/5\n",
      "897/897 [==============================] - 0s 75us/sample - loss: nan - acc: 0.3645\n",
      "Epoch 5/5\n",
      "897/897 [==============================] - 0s 69us/sample - loss: nan - acc: 0.3645\n",
      "443/443 [==============================] - 0s 210us/sample - loss: nan - acc: 0.4108\n",
      "0.4108352\n"
     ]
    }
   ],
   "source": [
    "module.create_model(df)\n",
    "\n",
    "# Again does not seem to be about games played"
   ]
  },
  {
   "cell_type": "markdown",
   "metadata": {},
   "source": [
    "# Review questions\n",
    "1. Did the student correctly and programmatically download and import the csv data? Was the head of the data shown?\n",
    "2. Did the student correctly display the scatter plot? Could anything be improved about the code in question?\n",
    "3. Did the student reflect on the importance of the GP attribute. Do you have any comments about the reflection on the GP attribute?"
   ]
  }
 ],
 "metadata": {
  "kernelspec": {
   "display_name": "Python 3",
   "language": "python",
   "name": "python3"
  },
  "language_info": {
   "codemirror_mode": {
    "name": "ipython",
    "version": 3
   },
   "file_extension": ".py",
   "mimetype": "text/x-python",
   "name": "python",
   "nbconvert_exporter": "python",
   "pygments_lexer": "ipython3",
   "version": "3.7.3"
  }
 },
 "nbformat": 4,
 "nbformat_minor": 2
}
